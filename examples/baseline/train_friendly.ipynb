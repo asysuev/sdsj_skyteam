{
 "cells": [
  {
   "cell_type": "code",
   "execution_count": 7,
   "metadata": {},
   "outputs": [
    {
     "name": "stdout",
     "output_type": "stream",
     "text": [
      "Populating the interactive namespace from numpy and matplotlib\n"
     ]
    }
   ],
   "source": [
    "import os \n",
    "os.chdir(\"/home/minasian/PycharmProjects/AutoML\")\n",
    "os.getcwd()\n",
    "%matplotlib inline\n",
    "%pylab inline\n",
    "pylab.rcParams['figure.figsize'] = (11, 5)"
   ]
  },
  {
   "cell_type": "code",
   "execution_count": 8,
   "metadata": {},
   "outputs": [],
   "source": [
    "import argparse\n",
    "import os\n",
    "import numpy as np\n",
    "import pandas as pd\n",
    "import pickle\n",
    "import time\n",
    "from sklearn.linear_model import Ridge, LogisticRegression\n",
    "from sklearn.preprocessing import StandardScaler\n",
    "from examples.baseline.utils import transform_datetime_features\n",
    "import matplotlib.pyplot as plt"
   ]
  },
  {
   "cell_type": "code",
   "execution_count": 9,
   "metadata": {},
   "outputs": [],
   "source": [
    "TIME_LIMIT = int(os.environ.get('TIME_LIMIT', 5*60))\n",
    "ONEHOT_MAX_UNIQUE_VALUES = 20\n",
    "BIG_DATASET_SIZE = 500 * 1024 * 1024\n"
   ]
  },
  {
   "cell_type": "code",
   "execution_count": 10,
   "metadata": {},
   "outputs": [
    {
     "data": {
      "text/plain": [
       "(365, 42)"
      ]
     },
     "execution_count": 10,
     "metadata": {},
     "output_type": "execute_result"
    }
   ],
   "source": [
    "start_time = time.time()\n",
    "train_csv=\"sdsj2018_automl_check_datasets/check_1_r/train.csv\"\n",
    "model_dir=\"examples/baseline/models\"\n",
    "mode='regression' if train_csv.split(\"/\")[-2].split(\"_\")[-1]=='r' else 'classification'\n",
    "df = pd.read_csv(train_csv)\n",
    "df.shape"
   ]
  },
  {
   "cell_type": "code",
   "execution_count": 11,
   "metadata": {},
   "outputs": [
    {
     "name": "stdout",
     "output_type": "stream",
     "text": [
      "Checking whether there is an H2O instance running at http://localhost:54321..... not found.\n",
      "Attempting to start a local H2O server...\n",
      "  Java Version: openjdk version \"10.0.2\" 2018-07-17; OpenJDK Runtime Environment (build 10.0.2+13-Ubuntu-1ubuntu0.18.04.2); OpenJDK 64-Bit Server VM (build 10.0.2+13-Ubuntu-1ubuntu0.18.04.2, mixed mode)\n",
      "  Starting server from /home/minasian/anaconda3/envs/last/lib/python3.6/site-packages/h2o/backend/bin/h2o.jar\n",
      "  Ice root: /tmp/tmp9jtstzm5\n",
      "  JVM stdout: /tmp/tmp9jtstzm5/h2o_minasian_started_from_python.out\n",
      "  JVM stderr: /tmp/tmp9jtstzm5/h2o_minasian_started_from_python.err\n"
     ]
    },
    {
     "ename": "H2OServerError",
     "evalue": "Server process terminated with error code 1",
     "output_type": "error",
     "traceback": [
      "\u001b[0;31m---------------------------------------------------------------------------\u001b[0m",
      "\u001b[0;31mH2OConnectionError\u001b[0m                        Traceback (most recent call last)",
      "\u001b[0;32m~/anaconda3/envs/last/lib/python3.6/site-packages/h2o/h2o.py\u001b[0m in \u001b[0;36minit\u001b[0;34m(url, ip, port, https, insecure, username, password, cookies, proxy, start_h2o, nthreads, ice_root, enable_assertions, max_mem_size, min_mem_size, strict_version_check, ignore_config, extra_classpath, **kwargs)\u001b[0m\n\u001b[1;32m    251\u001b[0m                                      _msgs=(\"Checking whether there is an H2O instance running at {url}\",\n\u001b[0;32m--> 252\u001b[0;31m                                             \"connected.\", \"not found.\"))\n\u001b[0m\u001b[1;32m    253\u001b[0m     \u001b[0;32mexcept\u001b[0m \u001b[0mH2OConnectionError\u001b[0m\u001b[0;34m:\u001b[0m\u001b[0;34m\u001b[0m\u001b[0m\n",
      "\u001b[0;32m~/anaconda3/envs/last/lib/python3.6/site-packages/h2o/backend/connection.py\u001b[0m in \u001b[0;36mopen\u001b[0;34m(server, url, ip, port, https, auth, verify_ssl_certificates, proxy, cookies, verbose, _msgs)\u001b[0m\n\u001b[1;32m    317\u001b[0m             \u001b[0mconn\u001b[0m\u001b[0;34m.\u001b[0m\u001b[0m_timeout\u001b[0m \u001b[0;34m=\u001b[0m \u001b[0;36m3.0\u001b[0m\u001b[0;34m\u001b[0m\u001b[0m\n\u001b[0;32m--> 318\u001b[0;31m             \u001b[0mconn\u001b[0m\u001b[0;34m.\u001b[0m\u001b[0m_cluster\u001b[0m \u001b[0;34m=\u001b[0m \u001b[0mconn\u001b[0m\u001b[0;34m.\u001b[0m\u001b[0m_test_connection\u001b[0m\u001b[0;34m(\u001b[0m\u001b[0mretries\u001b[0m\u001b[0;34m,\u001b[0m \u001b[0mmessages\u001b[0m\u001b[0;34m=\u001b[0m\u001b[0m_msgs\u001b[0m\u001b[0;34m)\u001b[0m\u001b[0;34m\u001b[0m\u001b[0m\n\u001b[0m\u001b[1;32m    319\u001b[0m             \u001b[0;31m# If a server is unable to respond within 1s, it should be considered a bug. However we disable this\u001b[0m\u001b[0;34m\u001b[0m\u001b[0;34m\u001b[0m\u001b[0m\n",
      "\u001b[0;32m~/anaconda3/envs/last/lib/python3.6/site-packages/h2o/backend/connection.py\u001b[0m in \u001b[0;36m_test_connection\u001b[0;34m(self, max_retries, messages)\u001b[0m\n\u001b[1;32m    587\u001b[0m             raise H2OConnectionError(\"Could not establish link to the H2O cloud %s after %d retries\\n%s\"\n\u001b[0;32m--> 588\u001b[0;31m                                      % (self._base_url, max_retries, \"\\n\".join(errors)))\n\u001b[0m\u001b[1;32m    589\u001b[0m \u001b[0;34m\u001b[0m\u001b[0m\n",
      "\u001b[0;31mH2OConnectionError\u001b[0m: Could not establish link to the H2O cloud http://localhost:54321 after 5 retries\n[56:41.47] H2OConnectionError: Timeout after 3.009s\n[56:44.68] H2OConnectionError: Timeout after 3.006s\n[56:47.89] H2OConnectionError: Timeout after 3.006s\n[56:51.10] H2OConnectionError: Timeout after 3.007s\n[56:54.31] H2OConnectionError: Timeout after 3.008s",
      "\nDuring handling of the above exception, another exception occurred:\n",
      "\u001b[0;31mH2OServerError\u001b[0m                            Traceback (most recent call last)",
      "\u001b[0;32m<ipython-input-11-4e201eb7e211>\u001b[0m in \u001b[0;36m<module>\u001b[0;34m\u001b[0m\n\u001b[1;32m      2\u001b[0m \u001b[0;32mfrom\u001b[0m \u001b[0mh2o\u001b[0m\u001b[0;34m.\u001b[0m\u001b[0mautoml\u001b[0m \u001b[0;32mimport\u001b[0m \u001b[0mH2OAutoML\u001b[0m\u001b[0;34m\u001b[0m\u001b[0m\n\u001b[1;32m      3\u001b[0m \u001b[0;34m\u001b[0m\u001b[0m\n\u001b[0;32m----> 4\u001b[0;31m \u001b[0mh2o\u001b[0m\u001b[0;34m.\u001b[0m\u001b[0minit\u001b[0m\u001b[0;34m(\u001b[0m\u001b[0;34m)\u001b[0m\u001b[0;34m\u001b[0m\u001b[0m\n\u001b[0m",
      "\u001b[0;32m~/anaconda3/envs/last/lib/python3.6/site-packages/h2o/h2o.py\u001b[0m in \u001b[0;36minit\u001b[0;34m(url, ip, port, https, insecure, username, password, cookies, proxy, start_h2o, nthreads, ice_root, enable_assertions, max_mem_size, min_mem_size, strict_version_check, ignore_config, extra_classpath, **kwargs)\u001b[0m\n\u001b[1;32m    259\u001b[0m             \u001b[0;32mraise\u001b[0m \u001b[0mH2OConnectionError\u001b[0m\u001b[0;34m(\u001b[0m\u001b[0;34m'Can only start H2O launcher if IP address is localhost.'\u001b[0m\u001b[0;34m)\u001b[0m\u001b[0;34m\u001b[0m\u001b[0m\n\u001b[1;32m    260\u001b[0m         hs = H2OLocalServer.start(nthreads=nthreads, enable_assertions=enable_assertions, max_mem_size=mmax,\n\u001b[0;32m--> 261\u001b[0;31m                                   min_mem_size=mmin, ice_root=ice_root, port=port, extra_classpath=extra_classpath)\n\u001b[0m\u001b[1;32m    262\u001b[0m         h2oconn = H2OConnection.open(server=hs, https=https, verify_ssl_certificates=not insecure,\n\u001b[1;32m    263\u001b[0m                                      auth=auth, proxy=proxy,cookies=cookies, verbose=True)\n",
      "\u001b[0;32m~/anaconda3/envs/last/lib/python3.6/site-packages/h2o/backend/server.py\u001b[0m in \u001b[0;36mstart\u001b[0;34m(jar_path, nthreads, enable_assertions, max_mem_size, min_mem_size, ice_root, port, extra_classpath, verbose)\u001b[0m\n\u001b[1;32m    119\u001b[0m         \u001b[0;32mif\u001b[0m \u001b[0mverbose\u001b[0m\u001b[0;34m:\u001b[0m \u001b[0mprint\u001b[0m\u001b[0;34m(\u001b[0m\u001b[0;34m\"Attempting to start a local H2O server...\"\u001b[0m\u001b[0;34m)\u001b[0m\u001b[0;34m\u001b[0m\u001b[0m\n\u001b[1;32m    120\u001b[0m         hs._launch_server(port=port, baseport=baseport, nthreads=int(nthreads), ea=enable_assertions,\n\u001b[0;32m--> 121\u001b[0;31m                           mmax=max_mem_size, mmin=min_mem_size)\n\u001b[0m\u001b[1;32m    122\u001b[0m         \u001b[0;32mif\u001b[0m \u001b[0mverbose\u001b[0m\u001b[0;34m:\u001b[0m \u001b[0mprint\u001b[0m\u001b[0;34m(\u001b[0m\u001b[0;34m\"  Server is running at %s://%s:%d\"\u001b[0m \u001b[0;34m%\u001b[0m \u001b[0;34m(\u001b[0m\u001b[0mhs\u001b[0m\u001b[0;34m.\u001b[0m\u001b[0mscheme\u001b[0m\u001b[0;34m,\u001b[0m \u001b[0mhs\u001b[0m\u001b[0;34m.\u001b[0m\u001b[0mip\u001b[0m\u001b[0;34m,\u001b[0m \u001b[0mhs\u001b[0m\u001b[0;34m.\u001b[0m\u001b[0mport\u001b[0m\u001b[0;34m)\u001b[0m\u001b[0;34m)\u001b[0m\u001b[0;34m\u001b[0m\u001b[0m\n\u001b[1;32m    123\u001b[0m         \u001b[0matexit\u001b[0m\u001b[0;34m.\u001b[0m\u001b[0mregister\u001b[0m\u001b[0;34m(\u001b[0m\u001b[0;32mlambda\u001b[0m\u001b[0;34m:\u001b[0m \u001b[0mhs\u001b[0m\u001b[0;34m.\u001b[0m\u001b[0mshutdown\u001b[0m\u001b[0;34m(\u001b[0m\u001b[0;34m)\u001b[0m\u001b[0;34m)\u001b[0m\u001b[0;34m\u001b[0m\u001b[0m\n",
      "\u001b[0;32m~/anaconda3/envs/last/lib/python3.6/site-packages/h2o/backend/server.py\u001b[0m in \u001b[0;36m_launch_server\u001b[0;34m(self, port, baseport, mmax, mmin, ea, nthreads)\u001b[0m\n\u001b[1;32m    307\u001b[0m         \u001b[0;32mwhile\u001b[0m \u001b[0;32mTrue\u001b[0m\u001b[0;34m:\u001b[0m\u001b[0;34m\u001b[0m\u001b[0m\n\u001b[1;32m    308\u001b[0m             \u001b[0;32mif\u001b[0m \u001b[0mproc\u001b[0m\u001b[0;34m.\u001b[0m\u001b[0mpoll\u001b[0m\u001b[0;34m(\u001b[0m\u001b[0;34m)\u001b[0m \u001b[0;32mis\u001b[0m \u001b[0;32mnot\u001b[0m \u001b[0;32mNone\u001b[0m\u001b[0;34m:\u001b[0m\u001b[0;34m\u001b[0m\u001b[0m\n\u001b[0;32m--> 309\u001b[0;31m                 \u001b[0;32mraise\u001b[0m \u001b[0mH2OServerError\u001b[0m\u001b[0;34m(\u001b[0m\u001b[0;34m\"Server process terminated with error code %d\"\u001b[0m \u001b[0;34m%\u001b[0m \u001b[0mproc\u001b[0m\u001b[0;34m.\u001b[0m\u001b[0mreturncode\u001b[0m\u001b[0;34m)\u001b[0m\u001b[0;34m\u001b[0m\u001b[0m\n\u001b[0m\u001b[1;32m    310\u001b[0m             \u001b[0mret\u001b[0m \u001b[0;34m=\u001b[0m \u001b[0mself\u001b[0m\u001b[0;34m.\u001b[0m\u001b[0m_get_server_info_from_logs\u001b[0m\u001b[0;34m(\u001b[0m\u001b[0;34m)\u001b[0m\u001b[0;34m\u001b[0m\u001b[0m\n\u001b[1;32m    311\u001b[0m             \u001b[0;32mif\u001b[0m \u001b[0mret\u001b[0m\u001b[0;34m:\u001b[0m\u001b[0;34m\u001b[0m\u001b[0m\n",
      "\u001b[0;31mH2OServerError\u001b[0m: Server process terminated with error code 1"
     ]
    }
   ],
   "source": [
    "import h2o\n",
    "from h2o.automl import H2OAutoML\n",
    "h2o.init()"
   ]
  },
  {
   "cell_type": "code",
   "execution_count": null,
   "metadata": {},
   "outputs": [],
   "source": [
    "import h2o\n",
    "from h2o.automl import H2OAutoML\n",
    "\n",
    "h2o.init()\n",
    "\n",
    "# Import a sample binary outcome train/test set into H2O\n",
    "# train = h2o.import_file(\"https://s3.amazonaws.com/erin-data/higgs/higgs_train_10k.csv\")\n",
    "# test = h2o.import_file(\"https://s3.amazonaws.com/erin-data/higgs/higgs_test_5k.csv\")\n",
    "\n",
    "# Identify predictors and response\n",
    "x = df.columns\n",
    "y = \"target\"\n",
    "x.remove(target)\n",
    "\n",
    "# For binary classification, response should be a factor\n",
    "train[y] = train[y].asfactor()\n",
    "test[y] = test[y].asfactor()\n",
    "\n",
    "# Run AutoML for 30 seconds\n"
   ]
  },
  {
   "cell_type": "code",
   "execution_count": 603,
   "metadata": {},
   "outputs": [],
   "source": [
    "df['datetime_0'] =  pd.to_datetime(df['datetime_0'], format='%Y-%m-%d')\n",
    "df=df.sort_values(by='datetime_0')"
   ]
  },
  {
   "cell_type": "markdown",
   "metadata": {},
   "source": [
    "## AUTOML "
   ]
  },
  {
   "cell_type": "code",
   "execution_count": null,
   "metadata": {},
   "outputs": [],
   "source": [
    "aml = H2OAutoML(max_runtime_secs = 30)\n",
    "aml.train(x = x, y = y,\n",
    "          training_frame = train)"
   ]
  },
  {
   "cell_type": "code",
   "execution_count": null,
   "metadata": {},
   "outputs": [],
   "source": [
    "\n",
    "\n",
    "\n",
    "\n",
    "# Import a sample binary outcome train/test set into H2O\n",
    "train = h2o.import_file(\"https://s3.amazonaws.com/erin-data/higgs/higgs_train_10k.csv\")\n",
    "test = h2o.import_file(\"https://s3.amazonaws.com/erin-data/higgs/higgs_test_5k.csv\")"
   ]
  },
  {
   "cell_type": "code",
   "execution_count": 604,
   "metadata": {},
   "outputs": [],
   "source": [
    "df=df.reset_index(drop=True)\n",
    "df['datetime_0']=[str(i.date())for i in df['datetime_0'].tolist()]"
   ]
  },
  {
   "cell_type": "code",
   "execution_count": 605,
   "metadata": {},
   "outputs": [
    {
     "data": {
      "text/plain": [
       "True"
      ]
     },
     "execution_count": 605,
     "metadata": {},
     "output_type": "execute_result"
    }
   ],
   "source": [
    "df_y = df.target.copy()\n",
    "df_X = df.drop('target', axis=1)\n",
    "\n",
    "is_big = df_X.memory_usage().sum() > BIG_DATASET_SIZE\n",
    "is_big"
   ]
  },
  {
   "cell_type": "code",
   "execution_count": 606,
   "metadata": {},
   "outputs": [],
   "source": [
    "df_y=np.log(df_y+1)"
   ]
  },
  {
   "cell_type": "code",
   "execution_count": 607,
   "metadata": {},
   "outputs": [
    {
     "data": {
      "text/plain": [
       "[<matplotlib.lines.Line2D at 0x7f28ae9e56a0>]"
      ]
     },
     "execution_count": 607,
     "metadata": {},
     "output_type": "execute_result"
    },
    {
     "data": {
      "image/png": "[encoded data removed]",
      "text/plain": [
       "<Figure size 792x360 with 1 Axes>"
      ]
     },
     "metadata": {
      "needs_background": "light"
     },
     "output_type": "display_data"
    }
   ],
   "source": [
    "plt.plot(df_y)"
   ]
  },
  {
   "cell_type": "code",
   "execution_count": 608,
   "metadata": {},
   "outputs": [
    {
     "data": {
      "text/plain": [
       "['number_28',\n",
       " 'number_40',\n",
       " 'number_91',\n",
       " 'number_92',\n",
       " 'number_98',\n",
       " 'number_102',\n",
       " 'number_104',\n",
       " 'number_106',\n",
       " 'number_107',\n",
       " 'number_108',\n",
       " 'number_109',\n",
       " 'number_110',\n",
       " 'number_111',\n",
       " 'number_112',\n",
       " 'number_113',\n",
       " 'number_114',\n",
       " 'number_116',\n",
       " 'number_117',\n",
       " 'number_118',\n",
       " 'number_119',\n",
       " 'number_120',\n",
       " 'number_121',\n",
       " 'number_122',\n",
       " 'number_123',\n",
       " 'number_124',\n",
       " 'number_125',\n",
       " 'number_126',\n",
       " 'number_127',\n",
       " 'number_128',\n",
       " 'number_129',\n",
       " 'number_130',\n",
       " 'number_131',\n",
       " 'number_132',\n",
       " 'number_133',\n",
       " 'number_134',\n",
       " 'number_135',\n",
       " 'number_136',\n",
       " 'number_137',\n",
       " 'number_138',\n",
       " 'number_139',\n",
       " 'number_140',\n",
       " 'number_141',\n",
       " 'number_142',\n",
       " 'number_143',\n",
       " 'number_144',\n",
       " 'number_145',\n",
       " 'number_146',\n",
       " 'number_147',\n",
       " 'number_148',\n",
       " 'number_149',\n",
       " 'number_150',\n",
       " 'number_151',\n",
       " 'number_152',\n",
       " 'number_213',\n",
       " 'number_214',\n",
       " 'number_217',\n",
       " 'number_218',\n",
       " 'number_219',\n",
       " 'number_222',\n",
       " 'number_224',\n",
       " 'number_230',\n",
       " 'number_234',\n",
       " 'number_236',\n",
       " 'number_237',\n",
       " 'number_240',\n",
       " 'number_245',\n",
       " 'number_299',\n",
       " 'number_301',\n",
       " 'number_303',\n",
       " 'number_307',\n",
       " 'number_319',\n",
       " 'number_327',\n",
       " 'number_346',\n",
       " 'number_348',\n",
       " 'number_351',\n",
       " 'number_353',\n",
       " 'number_354',\n",
       " 'number_356',\n",
       " 'string_3',\n",
       " 'number_373',\n",
       " 'number_375',\n",
       " 'number_384',\n",
       " 'number_386',\n",
       " 'number_389',\n",
       " 'number_393',\n",
       " 'number_396',\n",
       " 'number_398',\n",
       " 'number_404',\n",
       " 'number_406',\n",
       " 'number_407',\n",
       " 'number_408',\n",
       " 'number_409',\n",
       " 'number_412',\n",
       " 'number_413',\n",
       " 'number_422',\n",
       " 'number_423',\n",
       " 'number_424',\n",
       " 'number_430',\n",
       " 'number_432',\n",
       " 'number_433',\n",
       " 'number_434',\n",
       " 'number_435',\n",
       " 'number_437',\n",
       " 'number_439',\n",
       " 'number_440',\n",
       " 'number_443',\n",
       " 'number_444',\n",
       " 'number_454',\n",
       " 'number_465',\n",
       " 'number_494',\n",
       " 'number_514',\n",
       " 'number_515',\n",
       " 'number_516',\n",
       " 'number_517',\n",
       " 'number_543',\n",
       " 'number_545',\n",
       " 'number_546',\n",
       " 'number_561',\n",
       " 'number_565',\n",
       " 'number_574',\n",
       " 'number_590',\n",
       " 'number_593',\n",
       " 'number_596',\n",
       " 'number_600',\n",
       " 'number_671',\n",
       " 'number_689',\n",
       " 'number_691',\n",
       " 'number_692',\n",
       " 'number_693',\n",
       " 'number_695',\n",
       " 'number_697',\n",
       " 'number_698',\n",
       " 'number_700',\n",
       " 'number_701',\n",
       " 'number_702',\n",
       " 'number_704',\n",
       " 'number_705',\n",
       " 'number_711',\n",
       " 'number_712',\n",
       " 'number_714',\n",
       " 'number_715',\n",
       " 'number_716',\n",
       " 'number_718',\n",
       " 'number_720',\n",
       " 'number_721',\n",
       " 'number_723',\n",
       " 'number_724',\n",
       " 'number_729',\n",
       " 'number_730',\n",
       " 'number_731',\n",
       " 'number_732',\n",
       " 'number_733',\n",
       " 'number_734',\n",
       " 'number_735',\n",
       " 'number_736']"
      ]
     },
     "execution_count": 608,
     "metadata": {},
     "output_type": "execute_result"
    }
   ],
   "source": [
    "# drop constant features\n",
    "constant_columns = [\n",
    "    col_name\n",
    "    for col_name in df_X.columns\n",
    "    if df_X[col_name].nunique() == 1\n",
    "    ]\n",
    "constant_columns"
   ]
  },
  {
   "cell_type": "code",
   "execution_count": 609,
   "metadata": {},
   "outputs": [
    {
     "data": {
      "text/plain": [
       "(92091, 618)"
      ]
     },
     "execution_count": 609,
     "metadata": {},
     "output_type": "execute_result"
    }
   ],
   "source": [
    "df_X.drop(constant_columns, axis=1, inplace=True)\n",
    "df_X.shape"
   ]
  },
  {
   "cell_type": "code",
   "execution_count": 610,
   "metadata": {},
   "outputs": [],
   "source": [
    "model_config = {}\n",
    "model_config['categorical_values'] = {}\n",
    "model_config['is_big'] = is_big\n"
   ]
  },
  {
   "cell_type": "code",
   "execution_count": 611,
   "metadata": {},
   "outputs": [
    {
     "data": {
      "text/plain": [
       "(92091, 618)"
      ]
     },
     "execution_count": 611,
     "metadata": {},
     "output_type": "execute_result"
    }
   ],
   "source": [
    "df_X.shape"
   ]
  },
  {
   "cell_type": "code",
   "execution_count": 612,
   "metadata": {},
   "outputs": [],
   "source": [
    "if is_big:\n",
    "    # missing values\n",
    "    if any(df_X.isnull()):\n",
    "        model_config['missing'] = True\n",
    "        df_X.fillna(-1, inplace=True)\n",
    "\n",
    "    new_feature_count = min(df_X.shape[1],\n",
    "                            int(df_X.shape[1] / (df_X.memory_usage().sum() / BIG_DATASET_SIZE)))\n",
    "    # take only high correlated features\n",
    "    correlations = np.abs([\n",
    "        np.corrcoef(df_y, df_X[col_name])[0, 1]\n",
    "        for col_name in df_X.columns if col_name.startswith('number')\n",
    "        ])\n",
    "    new_columns = df_X.columns[np.argsort(correlations)[-new_feature_count:]]\n",
    "    df_X = df_X[new_columns]\n",
    "\n",
    "else:\n",
    "    # features from datetime\n",
    "    df_X = transform_datetime_features(df_X)\n",
    "\n",
    "    # categorical encoding\n",
    "    categorical_values = {}\n",
    "    for col_name in list(df_X.columns):\n",
    "        col_unique_values = df_X[col_name].unique()\n",
    "        if 2 < len(col_unique_values) <= ONEHOT_MAX_UNIQUE_VALUES:\n",
    "            categorical_values[col_name] = col_unique_values\n",
    "            for unique_value in col_unique_values:\n",
    "                df_X['onehot_{}={}'.format(col_name, unique_value)] = (df_X[col_name] == unique_value).astype(int)\n",
    "    model_config['categorical_values'] = categorical_values\n",
    "\n",
    "    # missing values\n",
    "    if any(df_X.isnull()):\n",
    "        model_config['missing'] = True\n",
    "        df_X.fillna(-1, inplace=True)"
   ]
  },
  {
   "cell_type": "code",
   "execution_count": 613,
   "metadata": {},
   "outputs": [
    {
     "data": {
      "text/html": [
       "<div>\n",
       "<style scoped>\n",
       "    .dataframe tbody tr th:only-of-type {\n",
       "        vertical-align: middle;\n",
       "    }\n",
       "\n",
       "    .dataframe tbody tr th {\n",
       "        vertical-align: top;\n",
       "    }\n",
       "\n",
       "    .dataframe thead th {\n",
       "        text-align: right;\n",
       "    }\n",
       "</style>\n",
       "<table border=\"1\" class=\"dataframe\">\n",
       "  <thead>\n",
       "    <tr style=\"text-align: right;\">\n",
       "      <th></th>\n",
       "      <th>number_694</th>\n",
       "      <th>number_15</th>\n",
       "      <th>number_703</th>\n",
       "      <th>number_36</th>\n",
       "      <th>number_17</th>\n",
       "      <th>number_29</th>\n",
       "      <th>number_0</th>\n",
       "      <th>number_342</th>\n",
       "      <th>number_166</th>\n",
       "      <th>number_743</th>\n",
       "      <th>...</th>\n",
       "      <th>number_87</th>\n",
       "      <th>number_752</th>\n",
       "      <th>number_709</th>\n",
       "      <th>number_225</th>\n",
       "      <th>number_343</th>\n",
       "      <th>number_717</th>\n",
       "      <th>number_713</th>\n",
       "      <th>number_710</th>\n",
       "      <th>number_220</th>\n",
       "      <th>number_101</th>\n",
       "    </tr>\n",
       "  </thead>\n",
       "  <tbody>\n",
       "    <tr>\n",
       "      <th>0</th>\n",
       "      <td>-1.0</td>\n",
       "      <td>-1.0</td>\n",
       "      <td>-1.0</td>\n",
       "      <td>-1.0</td>\n",
       "      <td>-1.0</td>\n",
       "      <td>-1.0</td>\n",
       "      <td>1.0</td>\n",
       "      <td>0.00</td>\n",
       "      <td>-2.0</td>\n",
       "      <td>-1.00</td>\n",
       "      <td>...</td>\n",
       "      <td>1.0</td>\n",
       "      <td>30.0</td>\n",
       "      <td>0.0</td>\n",
       "      <td>-1.0</td>\n",
       "      <td>-1.00</td>\n",
       "      <td>-1.0</td>\n",
       "      <td>-1.0</td>\n",
       "      <td>0.0</td>\n",
       "      <td>-1.0</td>\n",
       "      <td>-1.0</td>\n",
       "    </tr>\n",
       "    <tr>\n",
       "      <th>1</th>\n",
       "      <td>-1.0</td>\n",
       "      <td>-1.0</td>\n",
       "      <td>-1.0</td>\n",
       "      <td>-1.0</td>\n",
       "      <td>-1.0</td>\n",
       "      <td>-1.0</td>\n",
       "      <td>1.0</td>\n",
       "      <td>36422.87</td>\n",
       "      <td>507000.0</td>\n",
       "      <td>0.00</td>\n",
       "      <td>...</td>\n",
       "      <td>1.0</td>\n",
       "      <td>11.0</td>\n",
       "      <td>0.0</td>\n",
       "      <td>-1.0</td>\n",
       "      <td>861871.35</td>\n",
       "      <td>-1.0</td>\n",
       "      <td>-1.0</td>\n",
       "      <td>0.0</td>\n",
       "      <td>-1.0</td>\n",
       "      <td>-1.0</td>\n",
       "    </tr>\n",
       "    <tr>\n",
       "      <th>2</th>\n",
       "      <td>-1.0</td>\n",
       "      <td>-1.0</td>\n",
       "      <td>-1.0</td>\n",
       "      <td>-1.0</td>\n",
       "      <td>-1.0</td>\n",
       "      <td>-1.0</td>\n",
       "      <td>1.0</td>\n",
       "      <td>0.00</td>\n",
       "      <td>1000000.0</td>\n",
       "      <td>0.33</td>\n",
       "      <td>...</td>\n",
       "      <td>1.0</td>\n",
       "      <td>5.0</td>\n",
       "      <td>0.0</td>\n",
       "      <td>-1.0</td>\n",
       "      <td>1189794.56</td>\n",
       "      <td>-1.0</td>\n",
       "      <td>-1.0</td>\n",
       "      <td>0.0</td>\n",
       "      <td>-1.0</td>\n",
       "      <td>-1.0</td>\n",
       "    </tr>\n",
       "    <tr>\n",
       "      <th>3</th>\n",
       "      <td>-1.0</td>\n",
       "      <td>-1.0</td>\n",
       "      <td>-1.0</td>\n",
       "      <td>-1.0</td>\n",
       "      <td>-1.0</td>\n",
       "      <td>-1.0</td>\n",
       "      <td>1.0</td>\n",
       "      <td>0.00</td>\n",
       "      <td>-2.0</td>\n",
       "      <td>-1.00</td>\n",
       "      <td>...</td>\n",
       "      <td>1.0</td>\n",
       "      <td>22.0</td>\n",
       "      <td>0.0</td>\n",
       "      <td>-1.0</td>\n",
       "      <td>-1.00</td>\n",
       "      <td>-1.0</td>\n",
       "      <td>-1.0</td>\n",
       "      <td>0.0</td>\n",
       "      <td>-1.0</td>\n",
       "      <td>-1.0</td>\n",
       "    </tr>\n",
       "    <tr>\n",
       "      <th>4</th>\n",
       "      <td>-1.0</td>\n",
       "      <td>-1.0</td>\n",
       "      <td>-1.0</td>\n",
       "      <td>-1.0</td>\n",
       "      <td>-1.0</td>\n",
       "      <td>-1.0</td>\n",
       "      <td>0.0</td>\n",
       "      <td>-2.00</td>\n",
       "      <td>-2.0</td>\n",
       "      <td>1.00</td>\n",
       "      <td>...</td>\n",
       "      <td>1.0</td>\n",
       "      <td>23.0</td>\n",
       "      <td>0.0</td>\n",
       "      <td>-1.0</td>\n",
       "      <td>-1.00</td>\n",
       "      <td>-1.0</td>\n",
       "      <td>-1.0</td>\n",
       "      <td>0.0</td>\n",
       "      <td>-1.0</td>\n",
       "      <td>-1.0</td>\n",
       "    </tr>\n",
       "  </tbody>\n",
       "</table>\n",
       "<p>5 rows × 611 columns</p>\n",
       "</div>"
      ],
      "text/plain": [
       "   number_694  number_15  number_703  number_36  number_17  number_29  \\\n",
       "0        -1.0       -1.0        -1.0       -1.0       -1.0       -1.0   \n",
       "1        -1.0       -1.0        -1.0       -1.0       -1.0       -1.0   \n",
       "2        -1.0       -1.0        -1.0       -1.0       -1.0       -1.0   \n",
       "3        -1.0       -1.0        -1.0       -1.0       -1.0       -1.0   \n",
       "4        -1.0       -1.0        -1.0       -1.0       -1.0       -1.0   \n",
       "\n",
       "   number_0  number_342  number_166  number_743     ...      number_87  \\\n",
       "0       1.0        0.00        -2.0       -1.00     ...            1.0   \n",
       "1       1.0    36422.87    507000.0        0.00     ...            1.0   \n",
       "2       1.0        0.00   1000000.0        0.33     ...            1.0   \n",
       "3       1.0        0.00        -2.0       -1.00     ...            1.0   \n",
       "4       0.0       -2.00        -2.0        1.00     ...            1.0   \n",
       "\n",
       "   number_752  number_709  number_225  number_343 number_717  number_713  \\\n",
       "0        30.0         0.0        -1.0       -1.00       -1.0        -1.0   \n",
       "1        11.0         0.0        -1.0   861871.35       -1.0        -1.0   \n",
       "2         5.0         0.0        -1.0  1189794.56       -1.0        -1.0   \n",
       "3        22.0         0.0        -1.0       -1.00       -1.0        -1.0   \n",
       "4        23.0         0.0        -1.0       -1.00       -1.0        -1.0   \n",
       "\n",
       "   number_710  number_220  number_101  \n",
       "0         0.0        -1.0        -1.0  \n",
       "1         0.0        -1.0        -1.0  \n",
       "2         0.0        -1.0        -1.0  \n",
       "3         0.0        -1.0        -1.0  \n",
       "4         0.0        -1.0        -1.0  \n",
       "\n",
       "[5 rows x 611 columns]"
      ]
     },
     "execution_count": 613,
     "metadata": {},
     "output_type": "execute_result"
    }
   ],
   "source": [
    "df_X.head()\n"
   ]
  },
  {
   "cell_type": "code",
   "execution_count": 614,
   "metadata": {},
   "outputs": [
    {
     "name": "stdout",
     "output_type": "stream",
     "text": [
      "(92091, 611)\n"
     ]
    }
   ],
   "source": [
    "print(df_X.shape)"
   ]
  },
  {
   "cell_type": "code",
   "execution_count": 615,
   "metadata": {},
   "outputs": [],
   "source": [
    "used_columns = [\n",
    "    col_name\n",
    "    for col_name in df_X.columns\n",
    "    if col_name.startswith('number') or col_name.startswith('onehot')\n",
    "    ]\n",
    "df_X = df_X[used_columns].values\n",
    "model_config['used_columns'] = used_columns"
   ]
  },
  {
   "cell_type": "code",
   "execution_count": 616,
   "metadata": {},
   "outputs": [
    {
     "data": {
      "text/plain": [
       "dict_keys(['categorical_values', 'is_big', 'missing', 'used_columns', 'mode'])"
      ]
     },
     "execution_count": 616,
     "metadata": {},
     "output_type": "execute_result"
    }
   ],
   "source": [
    "model_config['mode']=mode\n",
    "model_config.keys()\n",
    "# model_config"
   ]
  },
  {
   "cell_type": "code",
   "execution_count": 596,
   "metadata": {},
   "outputs": [],
   "source": [
    "scaler = StandardScaler(copy=False)\n",
    "df_X = scaler.fit_transform(df_X)"
   ]
  },
  {
   "cell_type": "code",
   "execution_count": 597,
   "metadata": {},
   "outputs": [],
   "source": [
    "if mode == 'regression':\n",
    "    model = Ridge()\n",
    "else:\n",
    "    model = LogisticRegression()"
   ]
  },
  {
   "cell_type": "code",
   "execution_count": 598,
   "metadata": {},
   "outputs": [
    {
     "ename": "ValueError",
     "evalue": "Unknown label type: 'continuous'",
     "output_type": "error",
     "traceback": [
      "\u001b[0;31m---------------------------------------------------------------------------\u001b[0m",
      "\u001b[0;31mValueError\u001b[0m                                Traceback (most recent call last)",
      "\u001b[0;32m<ipython-input-598-a9c8d1928e06>\u001b[0m in \u001b[0;36m<module>\u001b[0;34m\u001b[0m\n\u001b[0;32m----> 1\u001b[0;31m \u001b[0mmodel\u001b[0m\u001b[0;34m.\u001b[0m\u001b[0mfit\u001b[0m\u001b[0;34m(\u001b[0m\u001b[0mdf_X\u001b[0m\u001b[0;34m,\u001b[0m \u001b[0mdf_y\u001b[0m\u001b[0;34m)\u001b[0m\u001b[0;34m\u001b[0m\u001b[0m\n\u001b[0m\u001b[1;32m      2\u001b[0m \u001b[0mmodel_config\u001b[0m\u001b[0;34m[\u001b[0m\u001b[0;34m'model'\u001b[0m\u001b[0;34m]\u001b[0m \u001b[0;34m=\u001b[0m \u001b[0mmodel\u001b[0m\u001b[0;34m\u001b[0m\u001b[0m\n",
      "\u001b[0;32m~/anaconda3/envs/last/lib/python3.6/site-packages/sklearn/linear_model/logistic.py\u001b[0m in \u001b[0;36mfit\u001b[0;34m(self, X, y, sample_weight)\u001b[0m\n\u001b[1;32m   1222\u001b[0m         X, y = check_X_y(X, y, accept_sparse='csr', dtype=_dtype,\n\u001b[1;32m   1223\u001b[0m                          order=\"C\")\n\u001b[0;32m-> 1224\u001b[0;31m         \u001b[0mcheck_classification_targets\u001b[0m\u001b[0;34m(\u001b[0m\u001b[0my\u001b[0m\u001b[0;34m)\u001b[0m\u001b[0;34m\u001b[0m\u001b[0m\n\u001b[0m\u001b[1;32m   1225\u001b[0m         \u001b[0mself\u001b[0m\u001b[0;34m.\u001b[0m\u001b[0mclasses_\u001b[0m \u001b[0;34m=\u001b[0m \u001b[0mnp\u001b[0m\u001b[0;34m.\u001b[0m\u001b[0munique\u001b[0m\u001b[0;34m(\u001b[0m\u001b[0my\u001b[0m\u001b[0;34m)\u001b[0m\u001b[0;34m\u001b[0m\u001b[0m\n\u001b[1;32m   1226\u001b[0m         \u001b[0mn_samples\u001b[0m\u001b[0;34m,\u001b[0m \u001b[0mn_features\u001b[0m \u001b[0;34m=\u001b[0m \u001b[0mX\u001b[0m\u001b[0;34m.\u001b[0m\u001b[0mshape\u001b[0m\u001b[0;34m\u001b[0m\u001b[0m\n",
      "\u001b[0;32m~/anaconda3/envs/last/lib/python3.6/site-packages/sklearn/utils/multiclass.py\u001b[0m in \u001b[0;36mcheck_classification_targets\u001b[0;34m(y)\u001b[0m\n\u001b[1;32m    170\u001b[0m     if y_type not in ['binary', 'multiclass', 'multiclass-multioutput',\n\u001b[1;32m    171\u001b[0m                       'multilabel-indicator', 'multilabel-sequences']:\n\u001b[0;32m--> 172\u001b[0;31m         \u001b[0;32mraise\u001b[0m \u001b[0mValueError\u001b[0m\u001b[0;34m(\u001b[0m\u001b[0;34m\"Unknown label type: %r\"\u001b[0m \u001b[0;34m%\u001b[0m \u001b[0my_type\u001b[0m\u001b[0;34m)\u001b[0m\u001b[0;34m\u001b[0m\u001b[0m\n\u001b[0m\u001b[1;32m    173\u001b[0m \u001b[0;34m\u001b[0m\u001b[0m\n\u001b[1;32m    174\u001b[0m \u001b[0;34m\u001b[0m\u001b[0m\n",
      "\u001b[0;31mValueError\u001b[0m: Unknown label type: 'continuous'"
     ]
    }
   ],
   "source": [
    "model.fit(df_X, df_y)\n",
    "model_config['model'] = model"
   ]
  },
  {
   "cell_type": "code",
   "execution_count": null,
   "metadata": {},
   "outputs": [],
   "source": []
  },
  {
   "cell_type": "code",
   "execution_count": 573,
   "metadata": {},
   "outputs": [
    {
     "data": {
      "text/plain": [
       "[<matplotlib.lines.Line2D at 0x7f28b192ea58>]"
      ]
     },
     "execution_count": 573,
     "metadata": {},
     "output_type": "execute_result"
    },
    {
     "data": {
      "image/png": "[encoded data removed]",
      "text/plain": [
       "<Figure size 792x360 with 1 Axes>"
      ]
     },
     "metadata": {
      "needs_background": "light"
     },
     "output_type": "display_data"
    }
   ],
   "source": [
    "y_hat=model.predict(df_X)\n",
    "y_true=df_y\n",
    "plt.plot(np.exp(y_hat)-1)\n",
    "plt.plot(df.target)"
   ]
  },
  {
   "cell_type": "code",
   "execution_count": 574,
   "metadata": {},
   "outputs": [],
   "source": [
    "from sklearn.metrics import mean_squared_error"
   ]
  },
  {
   "cell_type": "code",
   "execution_count": 576,
   "metadata": {},
   "outputs": [
    {
     "data": {
      "text/plain": [
       "25.75882656355881"
      ]
     },
     "execution_count": 576,
     "metadata": {},
     "output_type": "execute_result"
    }
   ],
   "source": [
    "model_config_filename = os.path.join(model_dir, 'model_config.pkl')\n",
    "mean_squared_error(df.target,np.exp(model.predict(df_X)))   "
   ]
  },
  {
   "cell_type": "code",
   "execution_count": 577,
   "metadata": {},
   "outputs": [],
   "source": [
    "with open(model_config_filename, 'wb') as fout:\n",
    "    pickle.dump(model_config, fout, protocol=pickle.HIGHEST_PROTOCOL)"
   ]
  },
  {
   "cell_type": "code",
   "execution_count": null,
   "metadata": {},
   "outputs": [],
   "source": []
  }
 ],
 "metadata": {
  "kernelspec": {
   "display_name": "last",
   "language": "python",
   "name": "last"
  },
  "language_info": {
   "codemirror_mode": {
    "name": "ipython",
    "version": 3
   },
   "file_extension": ".py",
   "mimetype": "text/x-python",
   "name": "python",
   "nbconvert_exporter": "python",
   "pygments_lexer": "ipython3",
   "version": "3.6.6"
  }
 },
 "nbformat": 4,
 "nbformat_minor": 2
}
